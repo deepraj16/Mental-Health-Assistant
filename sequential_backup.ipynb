{
 "cells": [
  {
   "cell_type": "code",
   "execution_count": 10,
   "id": "4fba03ca-f533-403b-9274-e36432c39271",
   "metadata": {},
   "outputs": [],
   "source": [
    "import os\n",
    "import shutil\n",
    "import time\n",
    "\n",
    "SOURCE_DIR = \"C:/Users/raj/OneDrive/Desktop/Resume\"\n",
    "DEST_DIR = \"C:/Users/raj/OneDrive/Desktop/Backup\""
   ]
  },
  {
   "cell_type": "code",
   "execution_count": 11,
   "id": "7e13f262-e361-4854-b95a-d28fb60fcd19",
   "metadata": {},
   "outputs": [],
   "source": [
    "def sequential_backup(src, dst):\n",
    "    if not os.path.exists(dst):\n",
    "        os.makedirs(dst)\n",
    "    files = os.listdir(src)\n",
    "    start_time = time.time()\n",
    "\n",
    "    for file in files:\n",
    "        src_path = os.path.join(src, file)\n",
    "        dst_path = os.path.join(dst, file)\n",
    "        shutil.copy2(src_path, dst_path)\n",
    "        print(f\"Copied: {file}\")\n",
    "\n",
    "    end_time = time.time()\n",
    "    elapsed = end_time - start_time\n",
    "    print(f\"\\nackup Completed in {elapsed:.2f} seconds.\")\n",
    "    return elapsed"
   ]
  },
  {
   "cell_type": "code",
   "execution_count": 12,
   "id": "d37a34d8-79a7-41d1-9c3f-f98dc45e180c",
   "metadata": {},
   "outputs": [
    {
     "name": "stdout",
     "output_type": "stream",
     "text": [
      "Starting normal (sequential) backup...\n",
      "\n",
      "Copied: 52028_Rushikesh_Ghodekar_.pdf\n",
      "Copied: API TOKEN of different provided.docx\n",
      "Copied: Appendix B.docx\n",
      "Copied: Conversational AI.docx\n",
      "Copied: Deepraj_Resume (7).pdf\n",
      "Copied: Deepraj_Resume.pdf\n",
      "Copied: django-readthedocs-io-en-5.2.x.pdf\n",
      "Copied: Django_Notes.pdf\n",
      "Copied: DMW UNIT-1.pdf\n",
      "Copied: DMW UNIT-2.pdf\n",
      "Copied: DMW UNIT-3.pdf\n",
      "Copied: DMW UNIT-4.pdf\n",
      "Copied: doc.pdf\n",
      "Copied: file2.pdf\n",
      "Copied: Flask_Notes.pdf\n",
      "Copied: Introduction-to-Cancer-Cell-Prediction-using-Deep-Learning-Computer-Vision.pdf\n",
      "Copied: JagrutiBangarBTechComp2026.pdf\n",
      "Copied: JETIR2305361.pdf\n",
      "Copied: Literature- survey.docx\n",
      "Copied: Literature-_survey.docx\n",
      "Copied: Literature.docx\n",
      "Copied: model.png\n",
      "Copied: Navigating My Career Horizon.pptx\n",
      "Copied: noc20_cs03_assigment_2.pdf\n",
      "Copied: prfofile.jpg\n",
      "Copied: project-1.png\n",
      "Copied: Rohit-bargal-resume.pdf\n",
      "Copied: Rohit_Bargal_resum3.pdf\n",
      "Copied: s12859-018-2509-3.pdf\n",
      "Copied: s13073-021-00968-x.pdf\n",
      "Copied: sol.ppt.pptx\n",
      "Copied: Tarun_DS_Resume.pdf\n",
      "Copied: Unveiling-the-Mysteries-of-Pixelated-Images.pptx\n",
      "Copied: Vaishnavi_Data_Analyst_Without_Photo (1).pdf\n",
      "Copied: Varun_Resume.pdf\n",
      "Copied: Vishal Autade - Aspiring MERN Stack Developer Resume.docx\n",
      "Copied: Vishal Navy.docx\n",
      "Copied: Weekly.docx\n",
      "Copied: work.docx\n",
      "\n",
      "ackup Completed in 0.25 seconds.\n",
      "Total files copied: 39\n",
      "Backup folder: C:/Users/raj/OneDrive/Desktop/Backup\n"
     ]
    }
   ],
   "source": [
    "print(\"Starting normal (sequential) backup...\\n\")\n",
    "time_taken = sequential_backup(SOURCE_DIR, DEST_DIR)\n",
    "print(f\"Total files copied: {len(os.listdir(SOURCE_DIR))}\")\n",
    "print(f\"Backup folder: {DEST_DIR}\")"
   ]
  },
  {
   "cell_type": "code",
   "execution_count": null,
   "id": "e36ba788-c516-429e-9836-b387f2fae7d7",
   "metadata": {},
   "outputs": [],
   "source": []
  }
 ],
 "metadata": {
  "kernelspec": {
   "display_name": "Python 3 (ipykernel)",
   "language": "python",
   "name": "python3"
  },
  "language_info": {
   "codemirror_mode": {
    "name": "ipython",
    "version": 3
   },
   "file_extension": ".py",
   "mimetype": "text/x-python",
   "name": "python",
   "nbconvert_exporter": "python",
   "pygments_lexer": "ipython3",
   "version": "3.11.7"
  },
  "widgets": {
   "application/vnd.jupyter.widget-state+json": {
    "state": {},
    "version_major": 2,
    "version_minor": 0
   }
  }
 },
 "nbformat": 4,
 "nbformat_minor": 5
}
